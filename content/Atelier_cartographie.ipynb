{
 "cells": [
  {
   "cell_type": "markdown",
   "id": "c3ca3c31",
   "metadata": {},
   "source": [
    "<a href=\"https://meetup-python-grenoble.github.io/events/2024-03-28/\" target=\"_blank\"><img src=\"https://raw.githubusercontent.com/meetup-python-grenoble/meetup-python-grenoble.github.io/49d3f33cd16b8e970d7fac306aa1bbab8f2b2e56/content/events/2024-03-28/static/cover.jpg\" width=500px/></a>\n",
    "\n",
    "# 🐍 <a href=\"https://meetup-python-grenoble.github.io\" target=\"_blank\">Meetup Python Grenoble</a>\n",
    "# 💻 Atelier \"Python Mapping for Good\"\n",
    "## 🗓️ Jeudi 28 mars 2024 - 19h - <a href=\"https://turbine.coop\" target=\"_blank\">La Turbine</a>\n",
    "## <a href=\"https://fr.linkedin.com/in/jessica-pic-698846150\" target=\"_blank\">Jessica Pic</a> | <a href=\"https://fr.linkedin.com/in/elise-pupier\" target=\"_blank\">Elise Pupier</a> | <a href=\"https://fr.linkedin.com/in/pierreloicbayart\" target=\"_blank\">Pierre-Loïc Bayart</a>"
   ]
  },
  {
   "cell_type": "markdown",
   "id": "5647dfb6",
   "metadata": {},
   "source": [
    "## ⚙️ Installation et import des bibliothèques"
   ]
  },
  {
   "cell_type": "code",
   "execution_count": null,
   "id": "7535bf5e-0543-4d77-99c0-b27894e576ed",
   "metadata": {},
   "outputs": [],
   "source": [
    "%pip install -q nbformat plotly folium mapclassify"
   ]
  },
  {
   "cell_type": "code",
   "execution_count": null,
   "id": "d88babe0",
   "metadata": {},
   "outputs": [],
   "source": [
    "import geopandas as gpd\n",
    "import pandas as pd\n",
    "import folium\n",
    "import matplotlib.pyplot as plt\n",
    "import plotly.express as px\n",
    "import pyodide_http\n",
    "\n",
    "pyodide_http.patch_all()"
   ]
  },
  {
   "cell_type": "markdown",
   "id": "3fcbec16",
   "metadata": {},
   "source": [
    "## 📚 Liens vers la documentation des bibliothèques\n",
    "\n",
    "- <a href=\"https://pandas.pydata.org\" target=\"_blank\">Pandas</a>\n",
    "- <a href=\"https://geopandas.org/en/stable/\" target=\"_blank\">GeoPandas</a>\n",
    "- <a href=\"https://matplotlib.org\" target=\"_blank\">Matplotlib</a>\n",
    "- <a href=\"https://python-visualization.github.io/folium/latest/\" target=\"_blank\">Folium</a>\n",
    "- <a href=\"https://plotly.com/python/\" target=\"_blank\">Plotly</a>"
   ]
  },
  {
   "cell_type": "markdown",
   "id": "d9577d4a",
   "metadata": {},
   "source": [
    "## 🗺️ Récupération de données GeoJSON\n",
    "\n",
    "Le projet Github france-geojson propose au format GeoJSON les cartes des **régions, départements, arrondissements, cantons et communes de France (métropole et départements d'outre-mer)** à partir des données publiées par l'<a href=\"https://www.ign.fr\" target=\"_blank\">IGN</a> et l'<a href=\"https://www.insee.fr/fr/accueil\" target=\"_blank\">INSEE</a>. Lien vers le site : https://france-geojson.gregoiredavid.fr\n",
    "\n",
    "- Récupérer l'url du fichier **GeoJSON** de l'**isère** sur le site france-geojson\n",
    "- Avec <a href=\"https://geopandas.org/en/stable/\" target=\"_blank\">GeoPandas</a>, insérer les données dans un **GeoDataframe** (à l'aide de la fonction <a href=\"https://geopandas.org/en/stable/docs/reference/api/geopandas.read_file.html\" target=\"_blank\">geopandas.read_file()</a>)\n",
    "- Afficher ces données sur une **carte** (avec Matplotlib ou Folium) avec **toutes bonnes pratiques de cartographie** (à l'aide de la méthode <a href=\"https://geopandas.org/en/stable/docs/reference/api/geopandas.GeoDataFrame.plot.html\" target=\"_blank\">geopandas.GeoDataFrame.plot()</a> ou de la méthode <a href=\"https://geopandas.org/en/stable/docs/reference/api/geopandas.GeoDataFrame.explore.html\" target=\"_blank\">geopandas.GeoDataFrame.explore()</a> )"
   ]
  },
  {
   "cell_type": "code",
   "execution_count": null,
   "id": "9698ff90",
   "metadata": {},
   "outputs": [],
   "source": [
    "# A COMPLETER"
   ]
  },
  {
   "cell_type": "markdown",
   "id": "04674a91",
   "metadata": {},
   "source": [
    "## 🌍 Choix du système de coordonnées de référence (CRS)\n",
    "\n",
    "La propriété <a href=\"https://geopandas.org/en/stable/docs/reference/api/geopandas.GeoSeries.area.html\" target=\"_blank\">geopandas.GeoSeries.area</a> permet de récupérer la surface des élèments d'une géométrie.\n",
    "\n",
    "- Récupérer la **surface du département de l'isère**. Pourquoi cet avertissement ? (aide avec la propiété <a href=\"https://geopandas.org/en/stable/docs/reference/api/geopandas.GeoDataFrame.crs.html\" target=\"_blank\">geopandas.GeoDataFrame.crs</a>)\n",
    "- Changer de système de coordonnées de référence pour passer en **Web Mercator (EPSG:3857)** grâce à la méthode <a href=\"https://geopandas.org/en/stable/docs/reference/api/geopandas.GeoDataFrame.to_crs.html\" target=\"_blank\">geopandas.GeoDataFrame.to_crs()</a>. Est-ce la bonne valeur de la surface ? Pourquoi ?\n",
    "- Changer de système de coordonnées de référence pour passer en **RGF93 / Lambert-93 (EPSG:2154)**"
   ]
  },
  {
   "cell_type": "code",
   "execution_count": null,
   "id": "d8e8e505",
   "metadata": {},
   "outputs": [],
   "source": [
    "# A COMPLETER"
   ]
  },
  {
   "cell_type": "markdown",
   "id": "b2721a5c",
   "metadata": {},
   "source": [
    "## ⛰️ Même chose pour l'agglomération de Grenoble\n",
    "\n",
    "Les **limites des communes de la métropole de Grenoble** peuvent être récupérées à cette adresse au format **GeoJSON** : https://www.data.gouv.fr/fr/datasets/les-communes-de-la-metropole-1/\n",
    "\n",
    "Comme précédemment :\n",
    "\n",
    "- **Récupérer** les données dans un **GeoDataframe**\n",
    "- **Afficher** les données sur une **carte**\n",
    "- **Calculer la surface** de l'agglomération"
   ]
  },
  {
   "cell_type": "code",
   "execution_count": null,
   "id": "c1a6bc2a",
   "metadata": {},
   "outputs": [],
   "source": [
    "# A COMPLETER"
   ]
  },
  {
   "cell_type": "markdown",
   "id": "01c063f5-cb27-4e1f-bc18-68133248cf6f",
   "metadata": {},
   "source": [
    "## 📊 Analyse des données \"Longue Vie Aux Objets\" de l'ADEME\n",
    "\n",
    "<a href=\"https://longuevieauxobjets.ademe.fr\" target=\"_blank\"><img src=\"https://epargnonsnosressources.gouv.fr/wp-content/uploads/2023/11/visuel_opengraph_carre.jpg\" width=200px/></a>\n",
    "\n",
    "> Donne accès aux **coordonnées de professionnels** dont l'activité permet d'**allonger la durée de vie des objets** : associations, entreprises, commerçants indépendants, artisans, enseignes de grande distribution, plateformes digitales, ...\n",
    "\n",
    "> Certains d'entre eux, les **Répar'Acteurs**, sont signalés par un code **couleur vert** en raison de leur engagement en faveur de la **réparation des objets** avant tout remplacement par un produit neuf.\n",
    "___\n",
    "- Récupérer les **données** dans un **dataframe Pandas** (à l'aide de la fonction <a href=\"https://pandas.pydata.org/pandas-docs/stable/reference/api/pandas.read_csv.html\" target=\"_blank\">pandas.read_csv()</a> ⚠️ attention au séparateur !)\n",
    "- Transformer ce dataframe en **GeoDataframe** (à l'aide de la classe <a href=\"https://geopandas.org/en/stable/docs/reference/api/geopandas.GeoDataFrame.html\" target=\"_blank\">geopandas.GeoDataFrame()</a>)\n",
    "- Effectuer une **jointure spatiale** (à l'aide de la fonction <a href=\"https://geopandas.org/en/stable/docs/reference/api/geopandas.sjoin.html\" target=\"_blank\">geopandas.sjoin()</a>)\n",
    "- **Afficher les points** qui sont dans le périmètre de l'agglomération de Grenoble\n",
    "- **Exporter les données** au format GeoJSON (à l'aide de la méthode <a href=\"https://geopandas.org/en/stable/docs/reference/api/geopandas.GeoDataFrame.to_file.html\" target=\"_blank\">geopandas.GeoDataFrame.to_file()</a>)"
   ]
  },
  {
   "cell_type": "code",
   "execution_count": null,
   "id": "79ee5578-7d40-4e11-bdea-c7ccbd3305f2",
   "metadata": {},
   "outputs": [],
   "source": [
    "# A COMPLETER"
   ]
  },
  {
   "cell_type": "markdown",
   "id": "38e73e7e",
   "metadata": {},
   "source": [
    "## 🗺️ Visualisation des données avec Plotly\n",
    "\n",
    "- Afficher les **données \"Longue Vie Aux Objets\" de l'ADEME de Grenoble** sur une **carte Plotly** avec un **fond de carte OpenStreetMap**, en affichant le **nom** et l'**url du lieu** en survolant avec la souris (à l'aide de la fonction <a href=\"https://plotly.github.io/plotly.py-docs/generated/plotly.express.scatter_mapbox.html\" target=\"_blank\">plotly.express.scatter_mapbox()</a>)\n",
    "___\n",
    "❓ **<a href=\"https://www.insee.fr/fr/metadonnees/definition/c1523\" target=\"_blank\">Maille IRIS</a>** ❓\n",
    "\n",
    "Afin de préparer la diffusion du recensement de la population de 1999, l'INSEE avait développé un **découpage du territoire en mailles de taille homogène** appelées IRIS2000. Un sigle qui signifiait **« Ilots Regroupés pour l'Information Statistique »** et qui faisait référence à la taille visée de **2 000 habitants par maille élémentaire**.\n",
    "\n",
    "Depuis, l'IRIS (appellation qui se substitue désormais à IRIS2000) constitue la **brique de base en matière de diffusion de données infra-communales**. Il doit respecter des critères géographiques et démographiques et avoir des contours identifiables sans ambigüité et **stables dans le temps**.\n",
    "Les communes d'au moins 10 000 habitants et une forte proportion des communes de 5 000 à 10 000 habitants sont découpées en IRIS. Ce découpage constitue une partition de leur territoire. La France compte environ 16 100 IRIS dont 650 dans les DOM.\n",
    "\n",
    "On distingue trois types d'IRIS :\n",
    "\n",
    "- **les IRIS d'habitat (code H)** : leur population se situe en général entre 1 800 et 5 000 habitants. Ils sont homogènes quant au type d'habitat et leurs limites s'appuient sur les grandes coupures du tissu urbain (voies principales, voies ferrées, cours d'eau, ...) ;\n",
    "\n",
    "- **les IRIS d'activité (code A)** : ils regroupent environ 1 000 salariés et comptent au moins deux fois plus d'emplois salariés que de population résidente ;\n",
    "\n",
    "- **les IRIS divers (code D)** : il s'agit de grandes zones spécifiques peu habitées et ayant une superficie importante (parcs de loisirs, zones portuaires, forêts, ...).\n",
    "\n",
    "Pour les **communes non découpées en IRIS**, le type de l'IRIS est **codé à Z**.\n",
    "\n",
    "Lien pour télécharger les contours IRIS pour toute la france : https://geoservices.ign.fr/ressource/178911\n",
    "___\n",
    "\n",
    "- A partir du fichier \"contours_iris_isere.geojson\", afficher sur une **carte Choropleth Plotly** les **quatre types de mailles IRIS** : H, A, D et Z (à l'aide de la fonction <a href=\"https://plotly.github.io/plotly.py-docs/generated/plotly.express.choropleth_mapbox.html\" target=\"_blank\">plotly.express.choropleth_mapbox()</a>)"
   ]
  },
  {
   "cell_type": "code",
   "execution_count": null,
   "id": "93af93af",
   "metadata": {},
   "outputs": [],
   "source": [
    "# A COMPLETER"
   ]
  }
 ],
 "metadata": {
  "kernelspec": {
   "display_name": "Python 3 (ipykernel)",
   "language": "python",
   "name": "python3"
  },
  "language_info": {
   "codemirror_mode": {
    "name": "ipython",
    "version": 3
   },
   "file_extension": ".py",
   "mimetype": "text/x-python",
   "name": "python",
   "nbconvert_exporter": "python",
   "pygments_lexer": "ipython3",
   "version": "3.11.5"
  }
 },
 "nbformat": 4,
 "nbformat_minor": 5
}
