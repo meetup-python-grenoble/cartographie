{
  "metadata": {
    "kernelspec": {
      "name": "python",
      "display_name": "Python (Pyodide)",
      "language": "python"
    },
    "language_info": {
      "codemirror_mode": {
        "name": "python",
        "version": 3
      },
      "file_extension": ".py",
      "mimetype": "text/x-python",
      "name": "python",
      "nbconvert_exporter": "python",
      "pygments_lexer": "ipython3",
      "version": "3.8"
    }
  },
  "nbformat_minor": 5,
  "nbformat": 4,
  "cells": [
    {
      "id": "c3ca3c31",
      "cell_type": "markdown",
      "source": "<a href=\"https://meetup-python-grenoble.github.io/events/2024-03-28/\" target=\"_blank\"><img src=\"https://raw.githubusercontent.com/meetup-python-grenoble/meetup-python-grenoble.github.io/49d3f33cd16b8e970d7fac306aa1bbab8f2b2e56/content/events/2024-03-28/static/cover.jpg\" width=500px/></a>\n\n# 🐍 <a href=\"https://meetup-python-grenoble.github.io\" target=\"_blank\">Meetup Python Grenoble</a>\n# 💻 Atelier \"Python Mapping for Good\"\n## 🗓️ Jeudi 28 mars 2024 - 19h - <a href=\"https://turbine.coop\" target=\"_blank\">La Turbine</a>\n## <a href=\"https://fr.linkedin.com/in/jessica-pic-698846150\" target=\"_blank\">Jessica Pic</a> | <a href=\"https://fr.linkedin.com/in/elise-pupier\" target=\"_blank\">Elise Pupier</a> | <a href=\"https://fr.linkedin.com/in/pierreloicbayart\" target=\"_blank\">Pierre-Loïc Bayart</a>",
      "metadata": {}
    },
    {
      "id": "5647dfb6",
      "cell_type": "markdown",
      "source": "## ⚙️ Installation et import des bibliothèques",
      "metadata": {}
    },
    {
      "id": "7535bf5e-0543-4d77-99c0-b27894e576ed",
      "cell_type": "code",
      "source": "%pip install -q nbformat plotly folium mapclassify",
      "metadata": {
        "trusted": true
      },
      "outputs": [],
      "execution_count": null
    },
    {
      "id": "d88babe0",
      "cell_type": "code",
      "source": "import geopandas as gpd\nimport pandas as pd\nimport folium\nimport matplotlib.pyplot as plt\nimport plotly.express as px\n#import pyodide_http\n\n#pyodide_http.patch_all()",
      "metadata": {
        "trusted": true
      },
      "outputs": [],
      "execution_count": null
    },
    {
      "id": "3fcbec16",
      "cell_type": "markdown",
      "source": "## 📚 Liens vers la documentation des bibliothèques\n\n- <a href=\"https://pandas.pydata.org\" target=\"_blank\">Pandas</a>\n- <a href=\"https://geopandas.org/en/stable/\" target=\"_blank\">GeoPandas</a>\n- <a href=\"https://matplotlib.org\" target=\"_blank\">Matplotlib</a>\n- <a href=\"https://python-visualization.github.io/folium/latest/\" target=\"_blank\">Folium</a>\n- <a href=\"https://plotly.com/python/\" target=\"_blank\">Plotly</a>",
      "metadata": {}
    },
    {
      "id": "d9577d4a",
      "cell_type": "markdown",
      "source": "## 🗺️ Récupération de données GeoJSON\n\nLe projet Github france-geojson propose au format GeoJSON les cartes des **régions, départements, arrondissements, cantons et communes de France (métropole et départements d'outre-mer)** à partir des données publiées par l'<a href=\"https://www.ign.fr\" target=\"_blank\">IGN</a> et l'<a href=\"https://www.insee.fr/fr/accueil\" target=\"_blank\">INSEE</a>. Lien vers le site : https://france-geojson.gregoiredavid.fr\n\n- Récupérer l'url du fichier **GeoJSON** de l'**isère** sur le site france-geojson\n- Avec <a href=\"https://geopandas.org/en/stable/\" target=\"_blank\">GeoPandas</a>, insérer les données dans un **GeoDataframe** (à l'aide de la fonction <a href=\"https://geopandas.org/en/stable/docs/reference/api/geopandas.read_file.html\" target=\"_blank\">geopandas.read_file()</a>)\n- Afficher ces données sur une **carte** (avec Matplotlib ou Folium) avec **toutes bonnes pratiques de cartographie** (à l'aide de la méthode <a href=\"https://geopandas.org/en/stable/docs/reference/api/geopandas.GeoDataFrame.plot.html\" target=\"_blank\">geopandas.GeoDataFrame.plot()</a> ou de la méthode <a href=\"https://geopandas.org/en/stable/docs/reference/api/geopandas.GeoDataFrame.explore.html\" target=\"_blank\">geopandas.GeoDataFrame.explore()</a> )",
      "metadata": {}
    },
    {
      "id": "9698ff90",
      "cell_type": "code",
      "source": "gdf = gpd.read_file(\"https://france-geojson.gregoiredavid.fr/repo/departements/38-isere/departement-38-isere.geojson\")\n#gdf = gpd.read_file(\"departement-38-isere.geojson\")\ngdf",
      "metadata": {
        "trusted": true
      },
      "outputs": [],
      "execution_count": null
    },
    {
      "id": "b0de2999",
      "cell_type": "code",
      "source": "gdf.plot()\nplt.title(\"Carte du département de l'isère\")\nplt.ylabel(\"Latitude (en °)\")\nplt.xlabel(\"Longitude (en °)\")\nplt.show()",
      "metadata": {
        "trusted": true
      },
      "outputs": [],
      "execution_count": null
    },
    {
      "id": "2ee5b0d6",
      "cell_type": "code",
      "source": "gdf.explore()",
      "metadata": {
        "trusted": true
      },
      "outputs": [],
      "execution_count": null
    },
    {
      "id": "04674a91",
      "cell_type": "markdown",
      "source": "## 🌍 Choix du système de coordonnées de référence (CRS)\n\nLa propriété <a href=\"https://geopandas.org/en/stable/docs/reference/api/geopandas.GeoSeries.area.html\" target=\"_blank\">geopandas.GeoSeries.area</a> permet de récupérer la surface des élèments d'une géométrie.\n\n- Récupérer la **surface du département de l'isère**. Pourquoi cet avertissement ? (aide avec la propiété <a href=\"https://geopandas.org/en/stable/docs/reference/api/geopandas.GeoDataFrame.crs.html\" target=\"_blank\">geopandas.GeoDataFrame.crs</a>)\n- Changer de système de coordonnées de référence pour passer en **Web Mercator (EPSG:3857)** grâce à la méthode <a href=\"https://geopandas.org/en/stable/docs/reference/api/geopandas.GeoDataFrame.to_crs.html\" target=\"_blank\">geopandas.GeoDataFrame.to_crs()</a>. Est-ce la bonne valeur de la surface ? Pourquoi ?\n- Changer de système de coordonnées de référence pour passer en **RGF93 / Lambert-93 (EPSG:2154)**",
      "metadata": {}
    },
    {
      "id": "d8e8e505",
      "cell_type": "code",
      "source": "gdf.area",
      "metadata": {
        "trusted": true
      },
      "outputs": [],
      "execution_count": null
    },
    {
      "id": "7eda16b3",
      "cell_type": "code",
      "source": "gdf.crs",
      "metadata": {
        "trusted": true
      },
      "outputs": [],
      "execution_count": null
    },
    {
      "id": "36e859f0",
      "cell_type": "code",
      "source": "gdf_projected = gdf.to_crs(\"EPSG:3857\")\ngdf_projected.area",
      "metadata": {
        "trusted": true
      },
      "outputs": [],
      "execution_count": null
    },
    {
      "id": "d566200d",
      "cell_type": "code",
      "source": "gdf_projected.crs",
      "metadata": {
        "trusted": true
      },
      "outputs": [],
      "execution_count": null
    },
    {
      "id": "ad30a93c",
      "cell_type": "code",
      "source": "gdf_projected = gdf.to_crs(\"EPSG:2154\")\ngdf_projected.area",
      "metadata": {
        "trusted": true
      },
      "outputs": [],
      "execution_count": null
    },
    {
      "id": "563f9be1",
      "cell_type": "code",
      "source": "gdf_projected.crs",
      "metadata": {
        "trusted": true
      },
      "outputs": [],
      "execution_count": null
    },
    {
      "id": "b2721a5c",
      "cell_type": "markdown",
      "source": "## ⛰️ Même chose pour l'agglomération de Grenoble\n\nLes **limites des communes de la métropole de Grenoble** peuvent être récupérées à cette adresse au format **GeoJSON** : https://www.data.gouv.fr/fr/datasets/les-communes-de-la-metropole-1/\n\nComme précédemment :\n\n- **Récupérer** les données dans un **GeoDataframe**\n- **Afficher** les données sur une **carte**\n- **Calculer la surface** de l'agglomération",
      "metadata": {}
    },
    {
      "id": "c1a6bc2a",
      "cell_type": "code",
      "source": "metro = gpd.read_file(\"https://data.metropolegrenoble.fr/sites/default/files/dataset/2023/02/22/847e2e81-5903-4404-b77e-4c9c36ad1584/limites_communales_metro_epsg4326.json\")\n#metro = gpd.read_file(\"limites_communales_metro_epsg4326.geojson\")\nmetro",
      "metadata": {
        "trusted": true
      },
      "outputs": [],
      "execution_count": null
    },
    {
      "id": "8805b7dd-5d50-4d0d-b0f9-8f9902e06205",
      "cell_type": "code",
      "source": "metro.plot()\nplt.title(\"Carte de la métropole de Grenoble\")\nplt.ylabel(\"Latitude (en °)\")\nplt.xlabel(\"Longitude (en °)\")\nplt.show()",
      "metadata": {
        "trusted": true
      },
      "outputs": [],
      "execution_count": null
    },
    {
      "id": "d21def06-3c62-455b-a501-ccb4c1d21553",
      "cell_type": "code",
      "source": "metro.explore()",
      "metadata": {
        "trusted": true
      },
      "outputs": [],
      "execution_count": null
    },
    {
      "id": "66690040-6563-4625-9481-fdf2d0dd77b1",
      "cell_type": "code",
      "source": "metro.crs",
      "metadata": {
        "trusted": true
      },
      "outputs": [],
      "execution_count": null
    },
    {
      "id": "33f70a3e-d90a-488f-be75-b473b91d684f",
      "cell_type": "code",
      "source": "metro_projected = metro.to_crs(\"EPSG:2154\")\nmetro_projected.area",
      "metadata": {
        "trusted": true
      },
      "outputs": [],
      "execution_count": null
    },
    {
      "id": "9ef32558-c010-4451-8ed4-6d5665092a45",
      "cell_type": "code",
      "source": "metro_projected.area.sum()",
      "metadata": {
        "trusted": true
      },
      "outputs": [],
      "execution_count": null
    },
    {
      "id": "01c063f5-cb27-4e1f-bc18-68133248cf6f",
      "cell_type": "markdown",
      "source": "## 📊 Analyse des données \"Longue Vie Aux Objets\" de l'ADEME\n\n<a href=\"https://longuevieauxobjets.ademe.fr\" target=\"_blank\"><img src=\"https://epargnonsnosressources.gouv.fr/wp-content/uploads/2023/11/visuel_opengraph_carre.jpg\" width=200px/></a>\n\n> Donne accès aux **coordonnées de professionnels** dont l'activité permet d'**allonger la durée de vie des objets** : associations, entreprises, commerçants indépendants, artisans, enseignes de grande distribution, plateformes digitales, ...\n\n> Certains d'entre eux, les **Répar'Acteurs**, sont signalés par un code **couleur vert** en raison de leur engagement en faveur de la **réparation des objets** avant tout remplacement par un produit neuf.\n___\n- Récupérer les **données** dans un **dataframe Pandas** (à l'aide de la fonction <a href=\"https://pandas.pydata.org/pandas-docs/stable/reference/api/pandas.read_csv.html\" target=\"_blank\">pandas.read_csv()</a> ⚠️ attention au séparateur !)\n- Transformer ce dataframe en **GeoDataframe** (à l'aide de la classe <a href=\"https://geopandas.org/en/stable/docs/reference/api/geopandas.GeoDataFrame.html\" target=\"_blank\">geopandas.GeoDataFrame()</a>)\n- Effectuer une **jointure spatiale** (à l'aide de la fonction <a href=\"https://geopandas.org/en/stable/docs/reference/api/geopandas.sjoin.html\" target=\"_blank\">geopandas.sjoin()</a>)\n- **Afficher les points** qui sont dans le périmètre de l'agglomération de Grenoble\n- **Exporter les données** au format GeoJSON (à l'aide de la méthode <a href=\"https://geopandas.org/en/stable/docs/reference/api/geopandas.GeoDataFrame.to_file.html\" target=\"_blank\">geopandas.GeoDataFrame.to_file()</a>)",
      "metadata": {}
    },
    {
      "id": "79ee5578-7d40-4e11-bdea-c7ccbd3305f2",
      "cell_type": "code",
      "source": "from shapely.geometry import Point",
      "metadata": {
        "trusted": true
      },
      "outputs": [],
      "execution_count": null
    },
    {
      "id": "09a41921-fdc3-4269-afca-9f2c315303f4",
      "cell_type": "code",
      "source": "ademe = pd.read_csv(\"https://raw.githubusercontent.com/Pierre-Loic/meetup_carto/main/content/Ademe_LVAO_Data_For_Good.csv\", sep=\";\")\n#ademe = pd.read_csv(\"Ademe_LVAO_Data_For_Good.csv\", sep=\";\")\nademe",
      "metadata": {
        "trusted": true
      },
      "outputs": [],
      "execution_count": null
    },
    {
      "id": "4e0e6bbb-cc17-4adc-b2a0-22177098af40",
      "cell_type": "code",
      "source": "ademe['latitude'] = pd.to_numeric(ademe['latitude'], errors='coerce')\nademe['longitude'] = pd.to_numeric(ademe['longitude'], errors='coerce')",
      "metadata": {
        "trusted": true
      },
      "outputs": [],
      "execution_count": null
    },
    {
      "id": "64d84dac-1a69-483b-a6bc-e5e2e3995be7",
      "cell_type": "code",
      "source": "ademe_gdf = gpd.GeoDataFrame(ademe, geometry=[Point(xy) for xy in zip(ademe.longitude, ademe.latitude)])\nademe_gdf.crs = \"EPSG:4326\"\nademe_gdf",
      "metadata": {
        "trusted": true
      },
      "outputs": [],
      "execution_count": null
    },
    {
      "id": "046b64b9-c1f4-4d53-adff-8e3f2f6150e2",
      "cell_type": "code",
      "source": "if ademe_gdf.crs != metro.crs:\n    ademe_gdf = ademe_gdf.to_crs(metro.crs)\n\npoints_metro = gpd.sjoin(ademe_gdf, metro, how=\"inner\", predicate='within')",
      "metadata": {
        "trusted": true
      },
      "outputs": [],
      "execution_count": null
    },
    {
      "id": "2a207f46-39f7-40cc-97d5-07fed60ada2a",
      "cell_type": "code",
      "source": "points_metro.explore()",
      "metadata": {
        "scrolled": true,
        "trusted": true
      },
      "outputs": [],
      "execution_count": null
    },
    {
      "id": "85e9c5e9",
      "cell_type": "code",
      "source": "points_metro.to_file(\"points_metro.geojson\", driver='GeoJSON')\n",
      "metadata": {
        "trusted": true
      },
      "outputs": [],
      "execution_count": null
    },
    {
      "id": "bf0aab39-fa54-4050-b1eb-18d9db1d08d4",
      "cell_type": "code",
      "source": "points_metro = gpd.read_file(\"https://raw.githubusercontent.com/Pierre-Loic/meetup_carto/94d4f60c154a8a23bf24cdef9d3f451976f234f6/content/points_metro.geojson\")\n#points_metro = gpd.read_file(\"points_metro.geojson\")",
      "metadata": {
        "trusted": true
      },
      "outputs": [],
      "execution_count": null
    },
    {
      "id": "38e73e7e",
      "cell_type": "markdown",
      "source": "## 🗺️ Visualisation des données avec Plotly\n\n- Afficher les **données \"Longue Vie Aux Objets\" de l'ADEME de Grenoble** sur une **carte Plotly** avec un **fond de carte OpenStreetMap**, en affichant le **nom** et l'**url du lieu** en survolant avec la souris (à l'aide de la fonction <a href=\"https://plotly.github.io/plotly.py-docs/generated/plotly.express.scatter_mapbox.html\" target=\"_blank\">plotly.express.scatter_mapbox()</a>)\n___\n❓ **<a href=\"https://www.insee.fr/fr/metadonnees/definition/c1523\" target=\"_blank\">Maille IRIS</a>** ❓\n\nAfin de préparer la diffusion du recensement de la population de 1999, l'INSEE avait développé un **découpage du territoire en mailles de taille homogène** appelées IRIS2000. Un sigle qui signifiait **« Ilots Regroupés pour l'Information Statistique »** et qui faisait référence à la taille visée de **2 000 habitants par maille élémentaire**.\n\nDepuis, l'IRIS (appellation qui se substitue désormais à IRIS2000) constitue la **brique de base en matière de diffusion de données infra-communales**. Il doit respecter des critères géographiques et démographiques et avoir des contours identifiables sans ambigüité et **stables dans le temps**.\nLes communes d'au moins 10 000 habitants et une forte proportion des communes de 5 000 à 10 000 habitants sont découpées en IRIS. Ce découpage constitue une partition de leur territoire. La France compte environ 16 100 IRIS dont 650 dans les DOM.\n\nOn distingue trois types d'IRIS :\n\n- **les IRIS d'habitat (code H)** : leur population se situe en général entre 1 800 et 5 000 habitants. Ils sont homogènes quant au type d'habitat et leurs limites s'appuient sur les grandes coupures du tissu urbain (voies principales, voies ferrées, cours d'eau, ...) ;\n\n- **les IRIS d'activité (code A)** : ils regroupent environ 1 000 salariés et comptent au moins deux fois plus d'emplois salariés que de population résidente ;\n\n- **les IRIS divers (code D)** : il s'agit de grandes zones spécifiques peu habitées et ayant une superficie importante (parcs de loisirs, zones portuaires, forêts, ...).\n\nPour les **communes non découpées en IRIS**, le type de l'IRIS est **codé à Z**.\n\nLien pour télécharger les contours IRIS pour toute la france : https://geoservices.ign.fr/ressource/178911\n___\n\n- A partir du fichier \"contours_iris_isere.geojson\", afficher sur une **carte Choropleth Plotly** les **quatre types de mailles IRIS** : H, A, D et Z (à l'aide de la fonction <a href=\"https://plotly.github.io/plotly.py-docs/generated/plotly.express.choropleth_mapbox.html\" target=\"_blank\">plotly.express.choropleth_mapbox()</a>)",
      "metadata": {}
    },
    {
      "id": "93af93af",
      "cell_type": "code",
      "source": "fig = px.scatter_mapbox(points_metro,lat=\"latitude\",lon=\"longitude\",\n                       mapbox_style=\"open-street-map\", #fond de carte\n                        zoom=6, center = {\"lat\": 46, \"lon\": 4}, #positionnement par défaut de la carte\n                        custom_data=[\"nom_right\",\"url\"] #pour customiser les variables qui apparaissent dans l'étiquette (quand on survole)\n                       )\nfig.update_traces(hovertemplate=\"<br>\".join([ \"%{customdata[0]}\", \"Site web : %{customdata[1]}\" ])) #pour customiser les variables qui apparaissent dans l'étiquette (quand on survole)\nfig.show()",
      "metadata": {
        "trusted": true
      },
      "outputs": [],
      "execution_count": null
    },
    {
      "id": "3ed3b25f",
      "cell_type": "code",
      "source": "contours_iris_isere = gpd.read_file(\"https://raw.githubusercontent.com/Pierre-Loic/meetup_carto/94d4f60c154a8a23bf24cdef9d3f451976f234f6/content/contours_iris_isere.geojson\")\n#contours_iris_isere = gpd.read_file(\"contours_iris_isere.geojson\")\ncontours_iris_isere.crs",
      "metadata": {
        "trusted": true
      },
      "outputs": [],
      "execution_count": null
    },
    {
      "id": "a1893b5f",
      "cell_type": "code",
      "source": "contours_iris_isere = contours_iris_isere.to_crs(4326)\ncontours_iris_isere.crs",
      "metadata": {
        "trusted": true
      },
      "outputs": [],
      "execution_count": null
    },
    {
      "id": "ac5c3d8e",
      "cell_type": "code",
      "source": "fig = px.choropleth_mapbox(contours_iris_isere,geojson=contours_iris_isere['geometry'],\n                          locations=contours_iris_isere.index,\n                           color='TYP_IRIS',\n                           #color_continuous_scale=\"YlOrRd\", #choix du dégradé de couleur (ici Yellow-Orange-Red)\n                           #range_color=(0, 100), #dégradé pour les valeurs de 0 à 100 (par défaut : du min au max du taux de pauvreté)\n                           opacity=0.5, #niveau de transparence des couleurs des polygones\n                           zoom=9, center = {\"lat\": 45.2, \"lon\": 5.7}, #positionnement par défaut de la carte\n                          mapbox_style=\"carto-positron\")\nfig.show()",
      "metadata": {
        "trusted": true
      },
      "outputs": [],
      "execution_count": null
    }
  ]
}